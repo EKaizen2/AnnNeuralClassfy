{
 "cells": [
  {
   "cell_type": "code",
   "execution_count": 70,
   "id": "349fbe3b",
   "metadata": {},
   "outputs": [
    {
     "name": "stdout",
     "output_type": "stream",
     "text": [
      "Model is Ready\n",
      "Make sure there are no qoutation marks on the path, and the path should start from MNIST folder.\n",
      "Paste Image path:MNIST_JPGS\\trainingSample\\img_14.jpg\n",
      "Path verified\n",
      "\n",
      "Model Prediction is: ============================ 3\n"
     ]
    }
   ],
   "source": [
    "#Importing relevant Libraries\n",
    "import os\n",
    "import torch\n",
    "import torch.nn as nn\n",
    "import torch.nn.functional as F\n",
    "from torchvision import transforms\n",
    "from PIL import Image\n",
    "\n",
    "#ANN NEURAL IMAGE CLASSIFICATION MODEL FUNCTION\n",
    "def Classify_image():\n",
    "    # Set the model to evaluation mode\n",
    "    class AnnModel(nn.Module):\n",
    "\n",
    "      def __init__(self):\n",
    "        super(AnnModel,self).__init__()\n",
    "        self.linear1 = nn.Linear(784, 64)\n",
    "        self.linear2 = nn.Linear(64, 32)\n",
    "        self.linear3 = nn.Linear(32, 16)\n",
    "        self.linear4 = nn.Linear(16, 10)\n",
    "\n",
    "      def forward(self, x_batch):\n",
    "        outputs = x_batch.reshape(-1, 784)\n",
    "        outputs = self.linear4(F.relu(self.linear3(F.relu(self.linear2(F.relu(self.linear1(outputs)))))))\n",
    "        return outputs\n",
    "\n",
    "    #Loading Ann Forward feeding Neural Model\n",
    "    loaded_model = AnnModel()\n",
    "    loaded_model.load_state_dict(torch.load('neural_classify_model.pth'))\n",
    "    loaded_model.eval()\n",
    "    print(\"Model is Ready\")\n",
    "    # Preprocess the image\n",
    "    def preprocess_image(image_path):\n",
    "        # Converting input image into a grayscale\n",
    "        image = Image.open(image_path).convert('L')\n",
    "        transform = transforms.Compose([\n",
    "            transforms.Resize((28, 28)),\n",
    "            transforms.ToTensor(),\n",
    "            transforms.Normalize((0.5,), (0.5,))\n",
    "        ])\n",
    "        image = transform(image)\n",
    "        image = image.unsqueeze(0)\n",
    "        return image\n",
    "\n",
    "    # Path to the new image\n",
    "    print(\"Make sure there are no qoutation marks on the path, and the path should start from MNIST folder.\")\n",
    "    image_path = input('Paste Image path:')\n",
    "    if os.path.exists(image_path):\n",
    "        print('Path verified')\n",
    "        # Preprocess the image\n",
    "        preprocessed_img = preprocess_image(image_path)\n",
    "        # Make predictions\n",
    "        with torch.no_grad():\n",
    "            output = loaded_model(preprocessed_img)\n",
    "        predicted_class = torch.argmax(output).item()\n",
    "        print(f'\\nModel Prediction is: {predicted_class:=> 30}')\n",
    "    else:\n",
    "        print(\"Image does not exist or image path is wrong. Please cross check.\")\n",
    "Classify_image()"
   ]
  },
  {
   "cell_type": "code",
   "execution_count": null,
   "id": "b9592fc1",
   "metadata": {},
   "outputs": [],
   "source": []
  },
  {
   "cell_type": "code",
   "execution_count": null,
   "id": "86f5533a",
   "metadata": {},
   "outputs": [],
   "source": []
  }
 ],
 "metadata": {
  "kernelspec": {
   "display_name": "Python 3 (ipykernel)",
   "language": "python",
   "name": "python3"
  },
  "language_info": {
   "codemirror_mode": {
    "name": "ipython",
    "version": 3
   },
   "file_extension": ".py",
   "mimetype": "text/x-python",
   "name": "python",
   "nbconvert_exporter": "python",
   "pygments_lexer": "ipython3",
   "version": "3.11.5"
  }
 },
 "nbformat": 4,
 "nbformat_minor": 5
}
