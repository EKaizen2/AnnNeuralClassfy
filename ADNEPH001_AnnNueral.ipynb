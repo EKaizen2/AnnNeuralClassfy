{
 "cells": [
  {
   "cell_type": "code",
   "execution_count": 22,
   "id": "71dec4f2",
   "metadata": {},
   "outputs": [],
   "source": [
    "#Importing Important Libraries\n",
    "%matplotlib inline\n",
    "import torch\n",
    "import torch.nn as nn\n",
    "from torchvision import datasets\n",
    "from matplotlib.pyplot import imshow\n",
    "import matplotlib.pyplot as plt\n",
    "import numpy as np\n",
    "import random"
   ]
  },
  {
   "cell_type": "code",
   "execution_count": 23,
   "id": "c1995cd7",
   "metadata": {},
   "outputs": [],
   "source": [
    "# Load MNIST from file\n",
    "DATA_DIR = \".\"\n",
    "download_dataset = False\n",
    "\n",
    "train_mnist = datasets.MNIST(DATA_DIR, train=True, download=download_dataset)\n",
    "test_mnist = datasets.MNIST(DATA_DIR, train=False, download=download_dataset)"
   ]
  },
  {
   "cell_type": "code",
   "execution_count": 24,
   "id": "bfecdb67",
   "metadata": {},
   "outputs": [
    {
     "name": "stdout",
     "output_type": "stream",
     "text": [
      "Dataset MNIST\n",
      "    Number of datapoints: 60000\n",
      "    Root location: .\n",
      "    Split: Train\n",
      "Dataset MNIST\n",
      "    Number of datapoints: 10000\n",
      "    Root location: .\n",
      "    Split: Test\n"
     ]
    }
   ],
   "source": [
    "print(train_mnist)\n",
    "print(test_mnist)"
   ]
  },
  {
   "cell_type": "code",
   "execution_count": 25,
   "id": "85023bf8",
   "metadata": {},
   "outputs": [
    {
     "data": {
      "text/plain": [
       "60000"
      ]
     },
     "execution_count": 25,
     "metadata": {},
     "output_type": "execute_result"
    }
   ],
   "source": [
    "len(train_mnist)"
   ]
  },
  {
   "cell_type": "code",
   "execution_count": 26,
   "id": "58dcbf17",
   "metadata": {},
   "outputs": [
    {
     "data": {
      "text/plain": [
       "10000"
      ]
     },
     "execution_count": 26,
     "metadata": {},
     "output_type": "execute_result"
    }
   ],
   "source": [
    "len(test_mnist)"
   ]
  },
  {
   "cell_type": "code",
   "execution_count": 27,
   "id": "7d21f959",
   "metadata": {},
   "outputs": [],
   "source": [
    "# Create variables for MNIST data\n",
    "X_train = train_mnist.data.float()\n",
    "y_train = train_mnist.targets\n",
    "X_test = test_mnist.data.float()\n",
    "y_test = test_mnist.targets"
   ]
  },
  {
   "cell_type": "markdown",
   "id": "cf4f01ac",
   "metadata": {},
   "source": [
    "Displaying train and test samples and Images"
   ]
  },
  {
   "cell_type": "code",
   "execution_count": 28,
   "id": "7b8a642d",
   "metadata": {},
   "outputs": [
    {
     "name": "stdout",
     "output_type": "stream",
     "text": [
      "60000\n",
      "60000\n"
     ]
    }
   ],
   "source": [
    "print(len(X_train))\n",
    "print(len(y_train))"
   ]
  },
  {
   "cell_type": "code",
   "execution_count": 29,
   "id": "de8efaf3",
   "metadata": {},
   "outputs": [
    {
     "name": "stdout",
     "output_type": "stream",
     "text": [
      "torch.Size([28, 28])\n",
      "torch.Size([])\n"
     ]
    }
   ],
   "source": [
    "print(X_train[0].shape)\n",
    "print(y_train[0].shape)"
   ]
  },
  {
   "cell_type": "code",
   "execution_count": 30,
   "id": "03332633",
   "metadata": {},
   "outputs": [
    {
     "name": "stdout",
     "output_type": "stream",
     "text": [
      "10000\n",
      "10000\n"
     ]
    }
   ],
   "source": [
    "print(len(X_test))\n",
    "print(len(y_test))"
   ]
  },
  {
   "cell_type": "code",
   "execution_count": 31,
   "id": "32b2de63",
   "metadata": {},
   "outputs": [
    {
     "name": "stdout",
     "output_type": "stream",
     "text": [
      "torch.Size([28, 28])\n",
      "torch.Size([])\n"
     ]
    }
   ],
   "source": [
    "print(X_test[0].shape)\n",
    "print(y_test[0].shape)"
   ]
  },
  {
   "cell_type": "code",
   "execution_count": 33,
   "id": "9566ed15",
   "metadata": {},
   "outputs": [
    {
     "data": {
      "text/plain": [
       "tensor([[  0.,   0.,   0.,   0.,   0.,   0.,   0.,   0.,   0.,   0.,   0.,   0.,\n",
       "           0.,   0.,   0.,   0.,   0.,   0.,   0.,   0.,   0.,   0.,   0.,   0.,\n",
       "           0.,   0.,   0.,   0.],\n",
       "        [  0.,   0.,   0.,   0.,   0.,   0.,   0.,   0.,   0.,   0.,   0.,   0.,\n",
       "           0.,   0.,   0.,   0.,   0.,   0.,   0.,   0.,   0.,   0.,   0.,   0.,\n",
       "           0.,   0.,   0.,   0.],\n",
       "        [  0.,   0.,   0.,   0.,   0.,   0.,   0.,   0.,   0.,   0.,   0.,   0.,\n",
       "           0.,   0.,   0.,   0.,   0.,   0.,   0.,   0.,   0.,   0.,   0.,   0.,\n",
       "           0.,   0.,   0.,   0.],\n",
       "        [  0.,   0.,   0.,   0.,   0.,   0.,   0.,   0.,   0.,   0.,   0.,   0.,\n",
       "           0.,   0.,   0.,   0.,   0.,   0.,   0.,   0.,   0.,   0.,   0.,   0.,\n",
       "           0.,   0.,   0.,   0.],\n",
       "        [  0.,   0.,   0.,   0.,   0.,   0.,   0.,   0.,   0.,   0.,   0.,   0.,\n",
       "           0.,   0.,   0.,   0.,   0.,   0.,   0.,   0.,   0.,   0.,   0.,   0.,\n",
       "           0.,   0.,   0.,   0.],\n",
       "        [  0.,   0.,   0.,   0.,   0.,   0.,   0.,   0.,   0.,   0.,   0.,   0.,\n",
       "           3.,  18.,  18.,  18., 126., 136., 175.,  26., 166., 255., 247., 127.,\n",
       "           0.,   0.,   0.,   0.],\n",
       "        [  0.,   0.,   0.,   0.,   0.,   0.,   0.,   0.,  30.,  36.,  94., 154.,\n",
       "         170., 253., 253., 253., 253., 253., 225., 172., 253., 242., 195.,  64.,\n",
       "           0.,   0.,   0.,   0.],\n",
       "        [  0.,   0.,   0.,   0.,   0.,   0.,   0.,  49., 238., 253., 253., 253.,\n",
       "         253., 253., 253., 253., 253., 251.,  93.,  82.,  82.,  56.,  39.,   0.,\n",
       "           0.,   0.,   0.,   0.],\n",
       "        [  0.,   0.,   0.,   0.,   0.,   0.,   0.,  18., 219., 253., 253., 253.,\n",
       "         253., 253., 198., 182., 247., 241.,   0.,   0.,   0.,   0.,   0.,   0.,\n",
       "           0.,   0.,   0.,   0.],\n",
       "        [  0.,   0.,   0.,   0.,   0.,   0.,   0.,   0.,  80., 156., 107., 253.,\n",
       "         253., 205.,  11.,   0.,  43., 154.,   0.,   0.,   0.,   0.,   0.,   0.,\n",
       "           0.,   0.,   0.,   0.],\n",
       "        [  0.,   0.,   0.,   0.,   0.,   0.,   0.,   0.,   0.,  14.,   1., 154.,\n",
       "         253.,  90.,   0.,   0.,   0.,   0.,   0.,   0.,   0.,   0.,   0.,   0.,\n",
       "           0.,   0.,   0.,   0.],\n",
       "        [  0.,   0.,   0.,   0.,   0.,   0.,   0.,   0.,   0.,   0.,   0., 139.,\n",
       "         253., 190.,   2.,   0.,   0.,   0.,   0.,   0.,   0.,   0.,   0.,   0.,\n",
       "           0.,   0.,   0.,   0.],\n",
       "        [  0.,   0.,   0.,   0.,   0.,   0.,   0.,   0.,   0.,   0.,   0.,  11.,\n",
       "         190., 253.,  70.,   0.,   0.,   0.,   0.,   0.,   0.,   0.,   0.,   0.,\n",
       "           0.,   0.,   0.,   0.],\n",
       "        [  0.,   0.,   0.,   0.,   0.,   0.,   0.,   0.,   0.,   0.,   0.,   0.,\n",
       "          35., 241., 225., 160., 108.,   1.,   0.,   0.,   0.,   0.,   0.,   0.,\n",
       "           0.,   0.,   0.,   0.],\n",
       "        [  0.,   0.,   0.,   0.,   0.,   0.,   0.,   0.,   0.,   0.,   0.,   0.,\n",
       "           0.,  81., 240., 253., 253., 119.,  25.,   0.,   0.,   0.,   0.,   0.,\n",
       "           0.,   0.,   0.,   0.],\n",
       "        [  0.,   0.,   0.,   0.,   0.,   0.,   0.,   0.,   0.,   0.,   0.,   0.,\n",
       "           0.,   0.,  45., 186., 253., 253., 150.,  27.,   0.,   0.,   0.,   0.,\n",
       "           0.,   0.,   0.,   0.],\n",
       "        [  0.,   0.,   0.,   0.,   0.,   0.,   0.,   0.,   0.,   0.,   0.,   0.,\n",
       "           0.,   0.,   0.,  16.,  93., 252., 253., 187.,   0.,   0.,   0.,   0.,\n",
       "           0.,   0.,   0.,   0.],\n",
       "        [  0.,   0.,   0.,   0.,   0.,   0.,   0.,   0.,   0.,   0.,   0.,   0.,\n",
       "           0.,   0.,   0.,   0.,   0., 249., 253., 249.,  64.,   0.,   0.,   0.,\n",
       "           0.,   0.,   0.,   0.],\n",
       "        [  0.,   0.,   0.,   0.,   0.,   0.,   0.,   0.,   0.,   0.,   0.,   0.,\n",
       "           0.,   0.,  46., 130., 183., 253., 253., 207.,   2.,   0.,   0.,   0.,\n",
       "           0.,   0.,   0.,   0.],\n",
       "        [  0.,   0.,   0.,   0.,   0.,   0.,   0.,   0.,   0.,   0.,   0.,   0.,\n",
       "          39., 148., 229., 253., 253., 253., 250., 182.,   0.,   0.,   0.,   0.,\n",
       "           0.,   0.,   0.,   0.],\n",
       "        [  0.,   0.,   0.,   0.,   0.,   0.,   0.,   0.,   0.,   0.,  24., 114.,\n",
       "         221., 253., 253., 253., 253., 201.,  78.,   0.,   0.,   0.,   0.,   0.,\n",
       "           0.,   0.,   0.,   0.],\n",
       "        [  0.,   0.,   0.,   0.,   0.,   0.,   0.,   0.,  23.,  66., 213., 253.,\n",
       "         253., 253., 253., 198.,  81.,   2.,   0.,   0.,   0.,   0.,   0.,   0.,\n",
       "           0.,   0.,   0.,   0.],\n",
       "        [  0.,   0.,   0.,   0.,   0.,   0.,  18., 171., 219., 253., 253., 253.,\n",
       "         253., 195.,  80.,   9.,   0.,   0.,   0.,   0.,   0.,   0.,   0.,   0.,\n",
       "           0.,   0.,   0.,   0.],\n",
       "        [  0.,   0.,   0.,   0.,  55., 172., 226., 253., 253., 253., 253., 244.,\n",
       "         133.,  11.,   0.,   0.,   0.,   0.,   0.,   0.,   0.,   0.,   0.,   0.,\n",
       "           0.,   0.,   0.,   0.],\n",
       "        [  0.,   0.,   0.,   0., 136., 253., 253., 253., 212., 135., 132.,  16.,\n",
       "           0.,   0.,   0.,   0.,   0.,   0.,   0.,   0.,   0.,   0.,   0.,   0.,\n",
       "           0.,   0.,   0.,   0.],\n",
       "        [  0.,   0.,   0.,   0.,   0.,   0.,   0.,   0.,   0.,   0.,   0.,   0.,\n",
       "           0.,   0.,   0.,   0.,   0.,   0.,   0.,   0.,   0.,   0.,   0.,   0.,\n",
       "           0.,   0.,   0.,   0.],\n",
       "        [  0.,   0.,   0.,   0.,   0.,   0.,   0.,   0.,   0.,   0.,   0.,   0.,\n",
       "           0.,   0.,   0.,   0.,   0.,   0.,   0.,   0.,   0.,   0.,   0.,   0.,\n",
       "           0.,   0.,   0.,   0.],\n",
       "        [  0.,   0.,   0.,   0.,   0.,   0.,   0.,   0.,   0.,   0.,   0.,   0.,\n",
       "           0.,   0.,   0.,   0.,   0.,   0.,   0.,   0.,   0.,   0.,   0.,   0.,\n",
       "           0.,   0.,   0.,   0.]])"
      ]
     },
     "execution_count": 33,
     "metadata": {},
     "output_type": "execute_result"
    }
   ],
   "source": [
    "X_train[0]"
   ]
  },
  {
   "cell_type": "code",
   "execution_count": 34,
   "id": "5e37a111",
   "metadata": {},
   "outputs": [
    {
     "data": {
      "text/plain": [
       "<matplotlib.image.AxesImage at 0x253086c3490>"
      ]
     },
     "execution_count": 34,
     "metadata": {},
     "output_type": "execute_result"
    },
    {
     "data": {
      "image/png": "[encoded data removed]",
      "text/plain": [
       "<Figure size 640x480 with 1 Axes>"
      ]
     },
     "metadata": {},
     "output_type": "display_data"
    }
   ],
   "source": [
    "plt.imshow(X_train[55],cmap='binary')"
   ]
  },
  {
   "cell_type": "code",
   "execution_count": 35,
   "id": "4f3363b6",
   "metadata": {
    "scrolled": true
   },
   "outputs": [
    {
     "data": {
      "text/plain": [
       "<matplotlib.image.AxesImage at 0x2530875cd90>"
      ]
     },
     "execution_count": 35,
     "metadata": {},
     "output_type": "execute_result"
    },
    {
     "data": {
      "image/png": "[encoded data removed]",
      "text/plain": [
       "<Figure size 640x480 with 1 Axes>"
      ]
     },
     "metadata": {},
     "output_type": "display_data"
    }
   ],
   "source": [
    "plt.imshow(X_train[699],cmap='binary')"
   ]
  },
  {
   "cell_type": "code",
   "execution_count": 36,
   "id": "32edc9e7",
   "metadata": {},
   "outputs": [
    {
     "data": {
      "text/plain": [
       "tensor(8)"
      ]
     },
     "execution_count": 36,
     "metadata": {},
     "output_type": "execute_result"
    }
   ],
   "source": [
    "y_train[55]"
   ]
  },
  {
   "cell_type": "code",
   "execution_count": 37,
   "id": "ed62c403",
   "metadata": {},
   "outputs": [
    {
     "data": {
      "text/plain": [
       "tensor(5)"
      ]
     },
     "execution_count": 37,
     "metadata": {},
     "output_type": "execute_result"
    }
   ],
   "source": [
    "y_train[699]"
   ]
  },
  {
   "cell_type": "markdown",
   "id": "d970b4f3",
   "metadata": {},
   "source": [
    "Preparing Data for Model"
   ]
  },
  {
   "cell_type": "code",
   "execution_count": 38,
   "id": "d90c9041",
   "metadata": {},
   "outputs": [
    {
     "data": {
      "text/plain": [
       "torch.Size([60000, 28, 28])"
      ]
     },
     "execution_count": 38,
     "metadata": {},
     "output_type": "execute_result"
    }
   ],
   "source": [
    "X_train.shape"
   ]
  },
  {
   "cell_type": "code",
   "execution_count": 39,
   "id": "11d1f274",
   "metadata": {},
   "outputs": [
    {
     "data": {
      "text/plain": [
       "torch.Size([10000, 28, 28])"
      ]
     },
     "execution_count": 39,
     "metadata": {},
     "output_type": "execute_result"
    }
   ],
   "source": [
    "X_test.shape"
   ]
  },
  {
   "cell_type": "code",
   "execution_count": 40,
   "id": "0f5b8614",
   "metadata": {},
   "outputs": [],
   "source": [
    "# Random Sampling for validation Set\n",
    "test_size = X_test.shape[0]\n",
    "indices = np.random.choice(X_train.shape[0], test_size, replace=False)\n",
    "\n",
    "# Creating the validation set\n",
    "X_valid = X_train[indices]\n",
    "y_valid = y_train[indices]\n",
    "\n",
    "# Removing Validation set from training set\n",
    "X_train = np.delete(X_train, indices, axis=0)\n",
    "y_train = np.delete(y_train, indices, axis=0)"
   ]
  },
  {
   "cell_type": "code",
   "execution_count": 41,
   "id": "941fa939",
   "metadata": {},
   "outputs": [
    {
     "name": "stdout",
     "output_type": "stream",
     "text": [
      "torch.Size([50000, 28, 28])\n",
      "torch.Size([50000])\n",
      "torch.Size([10000, 28, 28])\n",
      "torch.Size([10000])\n",
      "torch.Size([10000, 28, 28])\n",
      "torch.Size([10000])\n"
     ]
    }
   ],
   "source": [
    "print(X_train.shape)\n",
    "print(y_train.shape)\n",
    "print(X_valid.shape)\n",
    "print(y_valid.shape)\n",
    "print(X_test.shape)\n",
    "print(y_test.shape)"
   ]
  },
  {
   "cell_type": "markdown",
   "id": "90b49f3d",
   "metadata": {},
   "source": [
    "IMAGE VECTORIZATION - CONVERTING MATRIXES INTO VECTORS"
   ]
  },
  {
   "cell_type": "code",
   "execution_count": 44,
   "id": "47da06a6",
   "metadata": {},
   "outputs": [],
   "source": [
    "X_train_flat = X_train.reshape(len(X_train), 28*28)\n",
    "X_valid_flat = X_valid.reshape(len(X_valid), 28*28)\n",
    "X_test_flat = X_test.reshape(len(X_valid), 28*28)"
   ]
  },
  {
   "cell_type": "code",
   "execution_count": 45,
   "id": "6cf7febb",
   "metadata": {},
   "outputs": [
    {
     "name": "stdout",
     "output_type": "stream",
     "text": [
      "torch.Size([50000, 784])\n",
      "torch.Size([10000, 784])\n",
      "torch.Size([10000, 784])\n"
     ]
    }
   ],
   "source": [
    "#Storing number of features\n",
    "n_feat = X_train.shape[1]\n",
    "\n",
    "print(X_train_flat.shape)\n",
    "print(X_valid_flat.shape)\n",
    "print(X_test_flat.shape)"
   ]
  },
  {
   "cell_type": "markdown",
   "id": "2bd2ba24",
   "metadata": {},
   "source": [
    "BUILDING THE ANN NUERAL NETWORK CLASSIFICATION MODEL"
   ]
  },
  {
   "cell_type": "code",
   "execution_count": 48,
   "id": "eb7d949a",
   "metadata": {},
   "outputs": [],
   "source": [
    "class AnnModel(nn.Module):\n",
    "  def __init__(self, input_size, output_size):\n",
    "    super().__init__()\n",
    "    self.linear1 = nn.Linear(input_size, 64)\n",
    "    self.linear2 = nn.Linear(64, 32)\n",
    "    self.linear3 = nn.Linear(32, 16)\n",
    "    self.linear4 = nn.Linear(16, output_size)\n",
    "  \n",
    "  def forward(self, x_batch):\n",
    "    outputs = x_batch\n",
    "    #Using ReLu method there to map all negative values to 0 to increase the effectiveness of the model\n",
    "    outputs = self.linear4(F.relu(self.linear3(F.relu(self.linear2(F.relu(self.linear1(outputs)))))))\n",
    "    return outputs"
   ]
  },
  {
   "cell_type": "markdown",
   "id": "6c8341f4",
   "metadata": {},
   "source": [
    "BUILDING ACCURACY AND LOSS FUNCTIONS FOR THE MODEL"
   ]
  },
  {
   "cell_type": "code",
   "execution_count": 49,
   "id": "f6aefd8f",
   "metadata": {},
   "outputs": [],
   "source": [
    "def accuracy_score(outputs, labels):\n",
    "  _, preds = torch.max(outputs, dim=1)\n",
    "  correct_preds = torch.sum(preds==labels).item()\n",
    "  total_preds = len(preds)\n",
    "  accuracy = torch.tensor(correct_preds/total_preds)\n",
    "  return accuracy"
   ]
  },
  {
   "cell_type": "markdown",
   "id": "71252c96",
   "metadata": {},
   "source": [
    "DEFINING VALIDATION FUNCTIONS"
   ]
  },
  {
   "cell_type": "code",
   "execution_count": 50,
   "id": "0a77a1f1",
   "metadata": {},
   "outputs": [],
   "source": [
    "def validation_step(model, batch):\n",
    "  images, labels = batch\n",
    "  loss = F.cross_entropy(model.forward(images), labels)\n",
    "  acc = accuracy_score(model.forward(images), labels)\n",
    "  return {'val_loss':loss, 'val_acc':acc}\n",
    "\n",
    "def validation_epoch_end(outputs):  \n",
    "  batch_losses = [x['val_loss'] for x in outputs]\n",
    "  epoch_loss = torch.stack(batch_losses).mean()\n",
    "  batch_accs = [x['val_acc'] for x in outputs]\n",
    "  epoch_acc = torch.stack(batch_accs).mean()\n",
    "  return {'val_loss':epoch_loss.item(), 'val_acc':epoch_acc.item()}\n",
    "\n",
    "def evaluate(model, val_loader):\n",
    "  metrics = [validation_step(model, batch) for batch in val_loader]\n",
    "  metrics = validation_epoch_end(metrics)\n",
    "  return metrics"
   ]
  },
  {
   "cell_type": "code",
   "execution_count": null,
   "id": "30e7b40c",
   "metadata": {},
   "outputs": [],
   "source": []
  }
 ],
 "metadata": {
  "kernelspec": {
   "display_name": "Python 3 (ipykernel)",
   "language": "python",
   "name": "python3"
  },
  "language_info": {
   "codemirror_mode": {
    "name": "ipython",
    "version": 3
   },
   "file_extension": ".py",
   "mimetype": "text/x-python",
   "name": "python",
   "nbconvert_exporter": "python",
   "pygments_lexer": "ipython3",
   "version": "3.11.5"
  }
 },
 "nbformat": 4,
 "nbformat_minor": 5
}
